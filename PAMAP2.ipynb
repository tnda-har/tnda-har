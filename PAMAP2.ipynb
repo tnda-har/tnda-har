{
 "cells": [
  {
   "cell_type": "code",
   "execution_count": 12,
   "metadata": {},
   "outputs": [],
   "source": [
    "import os\n",
    "import pandas as pd\n",
    "import numpy as np\n",
    "import matplotlib.pyplot as plt\n",
    "from gtda.time_series import  SlidingWindow, Resampler\n",
    "from gtda.homology import VietorisRipsPersistence\n",
    "from gtda.time_series import TakensEmbedding\n",
    "from gtda.diagrams import BettiCurve\n",
    "from sklearn.preprocessing import MinMaxScaler, LabelEncoder\n",
    "from sklearn.model_selection import train_test_split\n",
    "from sklearn.ensemble import RandomForestClassifier\n",
    "from sklearn.metrics import classification_report\n",
    "from sklearn.model_selection import cross_val_score, KFold\n",
    "from sklearn.naive_bayes import  BernoulliNB, MultinomialNB, CategoricalNB\n",
    "import xgboost as xgb\n",
    "from xgboost import XGBClassifier\n",
    "from sklearn.datasets import load_svmlight_file\n",
    "from sklearn.metrics import accuracy_score\n",
    "from sklearn import svm\n",
    "import seaborn as sns\n",
    "from sklearn.metrics import confusion_matrix\n",
    "from tqdm import tqdm\n",
    "import time"
   ]
  },
  {
   "cell_type": "code",
   "execution_count": 13,
   "metadata": {
    "pycharm": {
     "name": "#%%\n"
    }
   },
   "outputs": [],
   "source": [
    "def load_data(path):\n",
    "    filename_list = []\n",
    "    for i in os.listdir(path):\n",
    "        path_name = path + i\n",
    "        data = pd.read_csv(path_name,header=None, delim_whitespace=True)\n",
    "        filename_list.append(data)\n",
    "    dataset = pd.concat(filename_list, axis=0, ignore_index=True)\n",
    "\n",
    "    dataset.columns = ['1','2','3','4','5','6','7','8','9','10','11','12','13','14','15','16','17','18',\n",
    "                       '19','20','21','22','23','24','25','26','27','28','29','30','31','32','33','34',\n",
    "                       '35','36','37','38','39','40','41','42','43','44','45','46','47','48','49','50',\n",
    "                       '51','52','53','54']\n",
    "    dataset.drop(index=list(dataset[dataset['2'] == 0].index), inplace=True)\n",
    "    dataset.drop(index=list(dataset[dataset['2'] == 16].index), inplace=True)\n",
    "    dataset.drop(index=list(dataset[dataset['2'] == 17].index), inplace=True)\n",
    "    dataset = dataset.drop(columns = '3')\n",
    "    dataset_filter = dataset.dropna()\n",
    "    X_ = dataset_filter[['5','6','7','11','12','13','14','15','16','22','23','24','28','29',\n",
    "                         '30','31','32','33','39','40','41','45','46','47','48','49','50']]\n",
    "    y = dataset_filter['2']\n",
    "    y_ = y.copy()\n",
    "    \n",
    "    y_[y_ <= 3] = 1\n",
    "    return X_ , y_"
   ]
  },
  {
   "cell_type": "code",
   "execution_count": 14,
   "metadata": {
    "pycharm": {
     "name": "#%%\n"
    }
   },
   "outputs": [],
   "source": [
    "def data_preprocesssing(data, label,  size, stride):\n",
    "    Scaler = MinMaxScaler()\n",
    "    data_ = Scaler.fit_transform(data)\n",
    "    periodic_sampler = Resampler(period=2)\n",
    "    data_resampled, label_resampled = periodic_sampler.fit_transform_resample(data_, label)\n",
    "    SW = SlidingWindow(size=size, stride=stride)\n",
    "    X, y = SW.fit_transform_resample(data_resampled, label_resampled)\n",
    "    return  X, y\n"
   ]
  },
  {
   "cell_type": "code",
   "execution_count": 15,
   "metadata": {
    "pycharm": {
     "name": "#%%\n"
    }
   },
   "outputs": [],
   "source": [
    "def extract_feature(data, time_delay, dimension):\n",
    "    featuress = []\n",
    "    for i in tqdm(range(data.shape[2])):\n",
    "        data_ = data[:, :, i]\n",
    "        TE = TakensEmbedding(time_delay=time_delay, dimension=dimension)\n",
    "        Taken = TE.fit_transform(data_)\n",
    "        VR = VietorisRipsPersistence(\n",
    "            metric=\"euclidean\",\n",
    "            homology_dimensions=[0, 1],\n",
    "            n_jobs=6,\n",
    "            collapse_edges=True)\n",
    "        VRs = VR.fit_transform(Taken)\n",
    "        BE = BettiCurve()\n",
    "        feature = BE.fit_transform(VRs)\n",
    "        feature = feature.sum(axis=1)\n",
    "        featuress.append(feature)\n",
    "        time.sleep(1)\n",
    "    featuress = np.concatenate(featuress, axis=1)\n",
    "    return featuress"
   ]
  },
  {
   "cell_type": "code",
   "execution_count": 16,
   "metadata": {
    "pycharm": {
     "name": "#%%\n"
    }
   },
   "outputs": [],
   "source": [
    "def model_RFC(feature, label,n_splits):\n",
    "    X, X_valid, y, y_valid = train_test_split(feature, label, test_size=0.3, random_state=42)\n",
    "    RFC = RandomForestClassifier()\n",
    "    RFC.fit(X, y)\n",
    "    acc_score = RFC.score(X_valid, y_valid)\n",
    "    print(acc_score)\n",
    "    y_pred = RFC.predict(X_valid)\n",
    "    print(classification_report(y_valid, y_pred, digits=4))\n",
    "    cv = KFold(n_splits=n_splits, shuffle=True, random_state=None)\n",
    "    score = cross_val_score(RFC, feature, label, cv=cv)\n",
    "    print(score)\n",
    "    print(score.mean())"
   ]
  },
  {
   "cell_type": "code",
   "execution_count": 17,
   "metadata": {
    "pycharm": {
     "name": "#%%\n"
    }
   },
   "outputs": [],
   "source": [
    "def model_NB(feature, label,n_splits):\n",
    "    X, X_valid, y, y_valid = train_test_split(feature, label, test_size=0.3, random_state=42)\n",
    "    NB = MultinomialNB()\n",
    "    NB.fit(X, y)\n",
    "    acc_score = NB.score(X_valid, y_valid)\n",
    "    print(acc_score)\n",
    "    y_pred = NB.predict(X_valid)\n",
    "    print(classification_report(y_valid, y_pred, digits=4))\n",
    "    cv = KFold(n_splits=n_splits, shuffle=True, random_state=None)\n",
    "    score = cross_val_score(NB, feature, label, cv=cv)\n",
    "    print(score)\n",
    "    print(score.mean())"
   ]
  },
  {
   "cell_type": "code",
   "execution_count": 18,
   "metadata": {
    "pycharm": {
     "name": "#%%\n"
    }
   },
   "outputs": [],
   "source": [
    "def model_SVM(feature, label,n_splits):\n",
    "    X, X_valid, y, y_valid = train_test_split(feature, label, test_size=0.3, random_state=42)\n",
    "    SVM = svm.SVC(kernel='rbf')\n",
    "    SVM.fit(X, y)\n",
    "    print(SVM.score(X_valid, y_valid))\n",
    "    y_pred = SVM.predict(X_valid)\n",
    "    print(classification_report(y_valid, y_pred, digits=4))\n",
    "    cv = KFold(n_splits=n_splits, shuffle=True, random_state=None)\n",
    "    score = cross_val_score(SVM, feature, label, cv=cv)\n",
    "    print(score)\n",
    "    print(score.mean())"
   ]
  },
  {
   "cell_type": "code",
   "execution_count": 19,
   "metadata": {
    "pycharm": {
     "name": "#%%\n"
    }
   },
   "outputs": [],
   "source": [
    "def model_XGB(feature, label,n_splits):\n",
    "    X, X_valid, y, y_valid = train_test_split(feature, label, test_size=0.3, random_state=42)\n",
    "    num_round = 150\n",
    "    bst = XGBClassifier(max_depth=4, learning_rate=0.1, n_estimators=num_round, objective='binary:logistic')\n",
    "    bst.fit(X, y)\n",
    "    y_pred = bst.predict(X_valid)\n",
    "    print(classification_report(y_valid, y_pred, digits=4))\n",
    "    cv = KFold(n_splits=n_splits, shuffle=True, random_state=None)\n",
    "    score = cross_val_score(bst, feature, label, cv=cv)\n",
    "    print(score)\n",
    "    print(score.mean())"
   ]
  },
  {
   "cell_type": "code",
   "execution_count": null,
   "metadata": {},
   "outputs": [],
   "source": [
    "path = '../PAMAP2/Protocol/'\n",
    "data,label = load_data(path)\n",
    "data_processed, label_processed = data_preprocesssing(data, label, 128, 64)\n",
    "feature = extract_feature(data_processed, 5, 10)\n",
    "model_RFC(feature, label_processed, 5)\n",
    "model_NB(feature, label_processed, 5)\n",
    "model_SVM(feature, label_processed, 5)\n",
    "model_XGB(feature, label_processed, 5)"
   ]
  }
 ],
 "metadata": {
  "kernelspec": {
   "display_name": "Python 3",
   "language": "python",
   "name": "python3"
  },
  "language_info": {
   "codemirror_mode": {
    "name": "ipython",
    "version": 3
   },
   "file_extension": ".py",
   "mimetype": "text/x-python",
   "name": "python",
   "nbconvert_exporter": "python",
   "pygments_lexer": "ipython3",
   "version": "3.8.5"
  }
 },
 "nbformat": 4,
 "nbformat_minor": 1
}
