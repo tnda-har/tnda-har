{
 "cells": [
  {
   "cell_type": "code",
   "execution_count": 3,
   "metadata": {},
   "outputs": [],
   "source": [
    "import os\n",
    "import pandas as pd\n",
    "import numpy as np\n",
    "import matplotlib.pyplot as plt\n",
    "from gtda.time_series import  SlidingWindow, Resampler\n",
    "from gtda.homology import VietorisRipsPersistence\n",
    "from gtda.time_series import TakensEmbedding\n",
    "from gtda.diagrams import BettiCurve\n",
    "from sklearn.preprocessing import MinMaxScaler, LabelEncoder\n",
    "from sklearn.model_selection import train_test_split\n",
    "from sklearn.ensemble import RandomForestClassifier\n",
    "from sklearn.metrics import classification_report\n",
    "from sklearn.model_selection import cross_val_score, KFold\n",
    "from sklearn.naive_bayes import  BernoulliNB, MultinomialNB, CategoricalNB\n",
    "import xgboost as xgb\n",
    "from xgboost import XGBClassifier\n",
    "from sklearn.datasets import load_svmlight_file\n",
    "from sklearn.metrics import accuracy_score\n",
    "from sklearn import svm\n",
    "import seaborn as sns\n",
    "from sklearn.metrics import confusion_matrix\n",
    "from tqdm import tqdm\n",
    "import time\n"
   ]
  },
  {
   "cell_type": "code",
   "execution_count": 4,
   "metadata": {
    "pycharm": {
     "name": "#%%\n"
    }
   },
   "outputs": [],
   "source": [
    "def load_file(filepath):\n",
    "    dataframe = pd.read_csv(filepath, header=None, delim_whitespace=True)\n",
    "    return dataframe.values\n"
   ]
  },
  {
   "cell_type": "code",
   "execution_count": 12,
   "metadata": {
    "pycharm": {
     "name": "#%%\n"
    }
   },
   "outputs": [],
   "source": [
    "def load_dataset(data_rootdir, dirname, group):\n",
    "    filename_list = []\n",
    "    filepath_list = []\n",
    "    X = []\n",
    "    for rootdir, dirnames, filenames in os.walk(data_rootdir + dirname):\n",
    "        for filename in filenames:\n",
    "            filename_list.append(filename)\n",
    "            filepath_list.append(os.path.join(rootdir, filename))\n",
    "    for filepath in filepath_list:\n",
    "        X.append(load_file(filepath))\n",
    "    X = np.dstack(X)\n",
    "    y = load_file(data_rootdir + '/y_' + group + '.txt')\n",
    "    return X, y\n"
   ]
  },
  {
   "cell_type": "code",
   "execution_count": 19,
   "metadata": {
    "pycharm": {
     "name": "#%%\n"
    }
   },
   "outputs": [],
   "source": [
    "def extract_feature(data, time_delay, dimension):\n",
    "    featuress = []\n",
    "    for i in tqdm(range(data.shape[2])):\n",
    "        data_ = data[:, :, i]\n",
    "        TE = TakensEmbedding(time_delay=time_delay, dimension=dimension)\n",
    "        Taken = TE.fit_transform(data_)\n",
    "        VR = VietorisRipsPersistence(\n",
    "            metric=\"euclidean\",\n",
    "            homology_dimensions=[0, 1, 2],\n",
    "            n_jobs=6,\n",
    "            collapse_edges=True)\n",
    "        VRs = VR.fit_transform(Taken)\n",
    "        BE = BettiCurve()\n",
    "        feature = BE.fit_transform(VRs)\n",
    "        feature = feature.sum(axis=1)\n",
    "        featuress.append(feature)\n",
    "        time.sleep(1)\n",
    "    featuress = np.concatenate(featuress, axis=1)\n",
    "    return featuress\n"
   ]
  },
  {
   "cell_type": "code",
   "execution_count": 20,
   "metadata": {
    "pycharm": {
     "name": "#%%\n"
    }
   },
   "outputs": [],
   "source": [
    "def model_RFC(feature, label,n_splits):\n",
    "    X, X_valid, y, y_valid = train_test_split(feature, label, test_size=0.3, random_state=42)\n",
    "    RFC = RandomForestClassifier()\n",
    "    RFC.fit(X, y)\n",
    "    acc_score = RFC.score(X_valid, y_valid)\n",
    "    print(acc_score)\n",
    "    y_pred = RFC.predict(X_valid)\n",
    "    print(classification_report(y_valid, y_pred, digits=4))\n",
    "    cv = KFold(n_splits=n_splits, shuffle=True, random_state=None)\n",
    "    score = cross_val_score(RFC, feature, label, cv=cv)\n",
    "    print(score)\n",
    "    print(score.mean())\n",
    "\n"
   ]
  },
  {
   "cell_type": "code",
   "execution_count": 21,
   "metadata": {
    "pycharm": {
     "name": "#%%\n"
    }
   },
   "outputs": [],
   "source": [
    "def model_NB(feature, label,n_splits):\n",
    "    X, X_valid, y, y_valid = train_test_split(feature, label, test_size=0.3)\n",
    "    NB = MultinomialNB()\n",
    "    NB.fit(X, y)\n",
    "    acc_score = NB.score(X_valid, y_valid)\n",
    "    print(acc_score)\n",
    "    y_pred = NB.predict(X_valid)\n",
    "    print(classification_report(y_valid, y_pred, digits=4))\n",
    "    cv = KFold(n_splits=n_splits, shuffle=True, random_state=None)\n",
    "    score = cross_val_score(NB, feature, label, cv=cv)\n",
    "    print(score)\n",
    "    print(score.mean())\n"
   ]
  },
  {
   "cell_type": "code",
   "execution_count": 22,
   "metadata": {
    "pycharm": {
     "name": "#%%\n"
    }
   },
   "outputs": [],
   "source": [
    "def model_SVM(feature, label,n_splits):\n",
    "    # 划分数据集和测试集\n",
    "    X, X_valid, y, y_valid = train_test_split(feature, label, test_size=0.3)\n",
    "    #定义SVM模型\n",
    "    SVM = svm.SVC(kernel='rbf')\n",
    "    SVM.fit(X, y)\n",
    "    print(SVM.score(X_valid, y_valid))\n",
    "    y_pred = SVM.predict(X_valid)\n",
    "    print(classification_report(y_valid, y_pred, digits=4))\n",
    "    cv = KFold(n_splits=n_splits, shuffle=True, random_state=None)\n",
    "    score = cross_val_score(SVM, feature, label, cv=cv)\n",
    "    print(score)\n",
    "    print(n_splits, '折SVM交叉验证均值为：', score.mean())"
   ]
  },
  {
   "cell_type": "code",
   "execution_count": 23,
   "metadata": {
    "pycharm": {
     "name": "#%%\n"
    }
   },
   "outputs": [],
   "source": [
    "def model_XGB(feature, label,n_splits):\n",
    "    # 划分数据集和测试集\n",
    "    X, X_valid, y, y_valid = train_test_split(feature, label, test_size=0.3)\n",
    "    num_round = 150\n",
    "    bst = XGBClassifier(max_depth=4, learning_rate=0.1, n_estimators=num_round, objective='binary:logistic')\n",
    "    bst.fit(X, y)\n",
    "    y_pred = bst.predict(X_valid)\n",
    "    print(classification_report(y_valid, y_pred, digits=4))\n",
    "    cv = KFold(n_splits=n_splits, shuffle=True, random_state=None)\n",
    "    score = cross_val_score(bst, feature, label, cv=cv)\n",
    "    print(score)\n",
    "    print(score.mean())"
   ]
  },
  {
   "cell_type": "code",
   "execution_count": 24,
   "metadata": {
    "pycharm": {
     "name": "#%%\n"
    }
   },
   "outputs": [],
   "source": [
    "train_rootdir = './train/'\n",
    "data_dirname = '/Inertial Signals/'\n",
    "trainX, trainy = load_dataset(train_rootdir, data_dirname, 'train')\n",
    "trainX\n",
    "test_rootdir = './test/'\n",
    "data_dirname = '/Inertial Signals/'\n",
    "testX, testy = load_dataset(test_rootdir, data_dirname, 'test')\n",
    "data = np.concatenate((trainX,testX),axis=0)\n",
    "label = np.concatenate((trainy,testy),axis=0)\n",
    "label[label >= 4] = 4\n",
    "label = label.ravel()"
   ]
  },
  {
   "cell_type": "code",
   "execution_count": null,
   "metadata": {},
   "outputs": [],
   "source": [
    "feature = extract_feature(data, 5, 3)\n",
    "model_RFC(feature, label, 5)\n",
    "model_NB(feature, label, 5)\n",
    "model_SVM(feature, label, 5)\n",
    "model_XGB(feature, label, 5)"
   ]
  }
 ],
 "metadata": {
  "kernelspec": {
   "display_name": "Python 3",
   "language": "python",
   "name": "python3"
  },
  "language_info": {
   "codemirror_mode": {
    "name": "ipython",
    "version": 3
   },
   "file_extension": ".py",
   "mimetype": "text/x-python",
   "name": "python",
   "nbconvert_exporter": "python",
   "pygments_lexer": "ipython3",
   "version": "3.8.5"
  }
 },
 "nbformat": 4,
 "nbformat_minor": 1
}
